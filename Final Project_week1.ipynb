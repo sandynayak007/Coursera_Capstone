{
  "nbformat": 4,
  "nbformat_minor": 0,
  "metadata": {
    "colab": {
      "name": "Untitled7.ipynb",
      "provenance": [],
      "authorship_tag": "ABX9TyNnL24nUtvZRi1nIDENZdu+",
      "include_colab_link": true
    },
    "kernelspec": {
      "name": "python3",
      "display_name": "Python 3"
    },
    "language_info": {
      "name": "python"
    }
  },
  "cells": [
    {
      "cell_type": "markdown",
      "metadata": {
        "id": "view-in-github",
        "colab_type": "text"
      },
      "source": [
        "<a href=\"https://colab.research.google.com/github/sandynayak007/Coursera_Capstone/blob/main/Final%20Project_week1.ipynb\" target=\"_parent\"><img src=\"https://colab.research.google.com/assets/colab-badge.svg\" alt=\"Open In Colab\"/></a>"
      ]
    },
    {
      "cell_type": "markdown",
      "metadata": {
        "id": "xmjqMBvoapOO"
      },
      "source": [
        "# Where to open the most popular Cocktail bar in the town?\n",
        "### Introduction\n",
        "\n",
        "In the gastro environment bars of all sorts play a major role. From a simple pub serving beer and maybe some food to exclusive cocktail bars the array and style is unique to every venue. While the venue itself is of great importance to maintaining a solid customers basis, finding new customers can be greatly influenced by the location and neighborhood.\n",
        "This study focuses on a regional study within Delhi to open a cocktail bar. No food will be served. While the venue wants to capture a high number of high-end customers who will travel to the bar specifically, the goal is to grow their customer base based on location. Essentially making it more accessible and favorable to a broader audience. All business aspects like pricing and products on offer are neglected, focusing solely on the most favorable location to supplement the venue while still making it a standout establishment.\n",
        "As the bar will not serve any food and be a unique venue for one or two drinks in the afternoon/evening following informations were taken into consideration:\n",
        "\n",
        "·       Proximity to an array of restaurants\n",
        "\n",
        "·       Reduced competition in the region\n",
        "\n",
        "### Methods\n",
        "Using the Foursquare API the locations of restaurants, bars, train-, tram stations and bus stops were selected. 4 clusters of restaurants and rival bars were created. Based on the data it might be possible to view regions most fruitful to open the cocktail bar at. Optimally regions with high densities of restaurants and low densities of bars would be recorded. To also view the accessiblity for an after work drink public transport point (train, tram and bus stations) were clustered."
      ]
    },
    {
      "cell_type": "code",
      "metadata": {
        "id": "bT9MQWy4b5u0"
      },
      "source": [
        ""
      ],
      "execution_count": null,
      "outputs": []
    }
  ]
}